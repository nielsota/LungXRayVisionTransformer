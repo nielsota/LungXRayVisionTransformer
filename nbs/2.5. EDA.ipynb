{
 "cells": [
  {
   "cell_type": "code",
   "execution_count": 2,
   "id": "1adcfa05",
   "metadata": {},
   "outputs": [],
   "source": [
    "import matplotlib.pyplot as plt\n",
    "import numpy as np\n",
    "\n",
    "import pathlib\n",
    "import joblib\n",
    "import torch"
   ]
  },
  {
   "cell_type": "code",
   "execution_count": 3,
   "id": "2b5f5ec5",
   "metadata": {},
   "outputs": [],
   "source": [
    "BASE_DIR = pathlib.Path().resolve().parent\n",
    "\n",
    "DATA_DIR = BASE_DIR / 'data'\n",
    "\n",
    "EXPORTS_DIR = DATA_DIR / 'exports'\n",
    "XRAY_LUNG_CLF_DIR = DATA_DIR / 'xray_lung_clf'\n",
    "\n",
    "TRAIN_DATA_PATH = XRAY_LUNG_CLF_DIR / 'train'\n",
    "TEST_DATA_PATH = XRAY_LUNG_CLF_DIR / 'test'\n",
    "\n",
    "TRAIN_ANNOTATIONS_PATH = XRAY_LUNG_CLF_DIR / 'train_annotations.json'\n",
    "TEST_ANNOTATIONS_PATH = XRAY_LUNG_CLF_DIR / 'test_annotations.json'\n",
    "\n",
    "EXPORTS_LUNGCLF_DIR = EXPORTS_DIR / 'xray_lung_clf'\n",
    "\n",
    "EXPORTS_TRAIN_DATA_PATH = EXPORTS_LUNGCLF_DIR / 'train_X.z'\n",
    "EXPORTS_TEST_DATA_PATH = EXPORTS_LUNGCLF_DIR / 'test_X.z'\n",
    "\n",
    "EXPORTS_TRAIN_LABELS_PATH = EXPORTS_LUNGCLF_DIR / 'train_Y.z'\n",
    "EXPORTS_TEST_LABELS_PATH = EXPORTS_LUNGCLF_DIR / 'test_Y.z'\n",
    "\n",
    "EXPORTS_CLASS_WEIGHTS_PATH = EXPORTS_LUNGCLF_DIR / 'class_weights.z'\n",
    "\n",
    "EXPORTS_LUNGCLF_DIR.mkdir(parents=True, exist_ok=True)"
   ]
  },
  {
   "cell_type": "code",
   "execution_count": 4,
   "id": "d9bd4b0b",
   "metadata": {},
   "outputs": [],
   "source": [
    "with open(EXPORTS_TRAIN_DATA_PATH, 'rb') as f:\n",
    "    X_train = joblib.load(f)\n",
    "\n",
    "with open(EXPORTS_TEST_DATA_PATH, 'rb') as f:\n",
    "    X_test = joblib.load(f)\n",
    "\n",
    "with open(EXPORTS_TRAIN_LABELS_PATH, 'rb') as f:\n",
    "    Y_train = joblib.load(f)\n",
    "    \n",
    "with open(EXPORTS_TEST_LABELS_PATH, 'rb') as f:\n",
    "    Y_test =joblib.load(f)"
   ]
  },
  {
   "cell_type": "code",
   "execution_count": 5,
   "id": "91fffe55",
   "metadata": {},
   "outputs": [
    {
     "data": {
      "text/plain": [
       "(array([ 958.,  203., 1135.,   46.,  222.,  200.,   59.,   31.,   88.,\n",
       "          83.]),\n",
       " array([ 0. ,  1.2,  2.4,  3.6,  4.8,  6. ,  7.2,  8.4,  9.6, 10.8, 12. ]),\n",
       " <BarContainer object of 10 artists>)"
      ]
     },
     "execution_count": 5,
     "metadata": {},
     "output_type": "execute_result"
    },
    {
     "data": {
      "image/png": "[encoded data removed]",
      "text/plain": [
       "<Figure size 432x288 with 4 Axes>"
      ]
     },
     "metadata": {
      "needs_background": "light"
     },
     "output_type": "display_data"
    }
   ],
   "source": [
    "fig, axs = plt.subplots(2,2)\n",
    "axs[0,0].hist(np.argmax(Y_train, axis=1))"
   ]
  },
  {
   "cell_type": "code",
   "execution_count": 11,
   "id": "56e60294",
   "metadata": {},
   "outputs": [
    {
     "data": {
      "text/plain": [
       "array([0., 0., 0., 1., 0., 0., 1., 0., 0., 0., 0., 0., 0.], dtype=float32)"
      ]
     },
     "execution_count": 11,
     "metadata": {},
     "output_type": "execute_result"
    }
   ],
   "source": [
    "Y_train[14,:]"
   ]
  },
  {
   "cell_type": "code",
   "execution_count": 14,
   "id": "ac2bebf6",
   "metadata": {},
   "outputs": [
    {
     "data": {
      "text/plain": [
       "array([0., 0., 0., 1., 0., 1., 1., 1., 0., 1., 1., 1., 0.], dtype=float32)"
      ]
     },
     "execution_count": 14,
     "metadata": {},
     "output_type": "execute_result"
    }
   ],
   "source": [
    "# 'Sickest' person in training group\n",
    "idx_max_sick = np.argmax(np.sum(Y_train, axis=1))\n",
    "Y_train[idx_max_sick, :]"
   ]
  },
  {
   "cell_type": "markdown",
   "id": "1570bd12",
   "metadata": {},
   "source": [
    "# Extract weights for training"
   ]
  },
  {
   "cell_type": "code",
   "execution_count": 15,
   "id": "b1273157",
   "metadata": {},
   "outputs": [
    {
     "data": {
      "text/plain": [
       "(3025, 1, 256, 256)"
      ]
     },
     "execution_count": 15,
     "metadata": {},
     "output_type": "execute_result"
    }
   ],
   "source": [
    "X_train.shape"
   ]
  },
  {
   "cell_type": "markdown",
   "id": "45287cd7",
   "metadata": {},
   "source": [
    "For example, if a dataset contains 100 positive and 300 negative examples of a single class, then pos_weight for the class should be equal to $300 / 100 = 3$. The loss would act as if the dataset contains $3 × 100 = 300$ positive examples.\n",
    "\n"
   ]
  },
  {
   "cell_type": "code",
   "execution_count": 13,
   "id": "fa9c7bd1",
   "metadata": {},
   "outputs": [
    {
     "name": "stdout",
     "output_type": "stream",
     "text": [
      "tensor([20.7430, 31.4939, 23.1614,  3.8288, 38.8346,  4.3586, 37.7007, 12.3565,\n",
      "        16.5016, 44.9130, 16.5016, 12.5364, 33.5390])\n"
     ]
    }
   ],
   "source": [
    "weights = torch.sum(torch.tensor(Y_train)) / torch.sum(torch.tensor(Y_train), axis=0) \n",
    "print(weights)"
   ]
  },
  {
   "cell_type": "code",
   "execution_count": 41,
   "id": "f8d61f4f",
   "metadata": {},
   "outputs": [],
   "source": [
    "with open(EXPORTS_CLASS_WEIGHTS_PATH, 'wb') as f:\n",
    "    torch.save(weights, f)"
   ]
  },
  {
   "cell_type": "code",
   "execution_count": 16,
   "id": "89fca0e7",
   "metadata": {},
   "outputs": [],
   "source": [
    "with open(EXPORTS_CLASS_WEIGHTS_PATH, 'rb') as f:\n",
    "    weights = torch.load(f)"
   ]
  },
  {
   "cell_type": "code",
   "execution_count": null,
   "id": "f755a3e1",
   "metadata": {},
   "outputs": [],
   "source": []
  }
 ],
 "metadata": {
  "kernelspec": {
   "display_name": "Python 3 (ipykernel)",
   "language": "python",
   "name": "python3"
  },
  "language_info": {
   "codemirror_mode": {
    "name": "ipython",
    "version": 3
   },
   "file_extension": ".py",
   "mimetype": "text/x-python",
   "name": "python",
   "nbconvert_exporter": "python",
   "pygments_lexer": "ipython3",
   "version": "3.9.0"
  }
 },
 "nbformat": 4,
 "nbformat_minor": 5
}
