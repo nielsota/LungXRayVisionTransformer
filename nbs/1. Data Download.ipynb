{
 "cells": [
  {
   "cell_type": "markdown",
   "id": "061e6e1e",
   "metadata": {},
   "source": [
    "# Data download notebook"
   ]
  },
  {
   "cell_type": "code",
   "execution_count": 1,
   "id": "fe4d6ebd",
   "metadata": {},
   "outputs": [],
   "source": [
    "import pathlib"
   ]
  },
  {
   "cell_type": "code",
   "execution_count": 2,
   "id": "8afc087c",
   "metadata": {},
   "outputs": [
    {
     "data": {
      "text/plain": [
       "PosixPath('/home/ec2-user/SageMaker/UdacityCapstone/data/zips')"
      ]
     },
     "execution_count": 2,
     "metadata": {},
     "output_type": "execute_result"
    }
   ],
   "source": [
    "BASE_DIR = pathlib.Path().resolve().parent\n",
    "\n",
    "DATA_DIR = BASE_DIR / 'data'\n",
    "\n",
    "EXPORTS_DIR = DATA_DIR / 'exports'\n",
    "XRAY_LUNG_CLF_DIR = DATA_DIR / 'xray_lung_clf'\n",
    "ZIPS_DIR =  DATA_DIR / 'zips'\n",
    "\n",
    "EXPORTS_DIR.mkdir(parents=True, exist_ok=True)\n",
    "ZIPS_DIR.mkdir(parents=True, exist_ok=True)\n",
    "XRAY_LUNG_CLF_DIR.mkdir(parents=True, exist_ok=True)\n",
    "\n",
    "TRAIN_ZIP_PATH = ZIPS_DIR / 'train.zip'\n",
    "TEST_ZIP_PATH = ZIPS_DIR / 'test.zip'\n",
    "\n",
    "TRAIN_ANNOTATION_PATH = XRAY_LUNG_CLF_DIR / 'train_annotations.json'\n",
    "TEST_ANNOTATION_PATH = XRAY_LUNG_CLF_DIR / 'test_annotations.json'\n",
    "\n",
    "ZIPS_DIR"
   ]
  },
  {
   "cell_type": "code",
   "execution_count": 3,
   "id": "499ac17e",
   "metadata": {},
   "outputs": [],
   "source": [
    "TRAIN_URL = 'http://resource.deepwise.com/ChestX-Det/train_data.zip'\n",
    "TEST_URL = 'http://resource.deepwise.com/ChestX-Det/test_data.zip'\n",
    "\n",
    "TRAIN_ANNOTATION_URL = 'https://raw.githubusercontent.com/Deepwise-AILab/ChestX-Det-Dataset/main/ChestX_Det_train.json'\n",
    "TEST_ANNOTATION_URL = 'https://raw.githubusercontent.com/Deepwise-AILab/ChestX-Det-Dataset/main/ChestX_Det_test.json'"
   ]
  },
  {
   "cell_type": "code",
   "execution_count": 4,
   "id": "b281835e",
   "metadata": {},
   "outputs": [
    {
     "name": "stdout",
     "output_type": "stream",
     "text": [
      "  % Total    % Received % Xferd  Average Speed   Time    Time     Time  Current\n",
      "                                 Dload  Upload   Total   Spent    Left  Speed\n",
      "100 1163M  100 1163M    0     0  1080k      0  0:18:22  0:18:22 --:--:-- 1677k 0     0  1203k      0  0:16:30  0:03:03  0:13:27  999k0  1059k      0  0:18:43  0:07:42  0:11:01  162k  511M    0     0  1007k      0  0:19:42  0:08:39  0:11:03 1945k 588M    0     0   974k      0  0:20:22  0:10:18  0:10:04 1625k 971k      0  0:20:26  0:12:22  0:08:04  532k704M    0     0   970k      0  0:20:27  0:12:23  0:08:04  596k:47  0:07:21 1662k:59 1273k     0   974k      0  0:20:22  0:14:27  0:05:55  357k   968k      0  0:20:30  0:15:43  0:04:47 2078k  95 1115M    0     0  1063k      0  0:18:40  0:17:53  0:00:47 1503k  97 1136M    0     0  1070k      0  0:18:33  0:18:07  0:00:26 1986k\n",
      "  % Total    % Received % Xferd  Average Speed   Time    Time     Time  Current\n",
      "                                 Dload  Upload   Total   Spent    Left  Speed\n",
      "100  212M  100  212M    0     0  1515k      0  0:02:23  0:02:23 --:--:-- 1826k  0  0:02:06  0:01:31  0:00:35 1473k6k      0  0:02:23  0:02:23 --:--:-- 1902k\n"
     ]
    }
   ],
   "source": [
    "!curl $TRAIN_URL -o $TRAIN_ZIP_PATH \n",
    "!curl $TEST_URL -o $TEST_ZIP_PATH "
   ]
  },
  {
   "cell_type": "code",
   "execution_count": 5,
   "id": "6152a948",
   "metadata": {},
   "outputs": [
    {
     "name": "stdout",
     "output_type": "stream",
     "text": [
      "  % Total    % Received % Xferd  Average Speed   Time    Time     Time  Current\n",
      "                                 Dload  Upload   Total   Spent    Left  Speed\n",
      "100 2113k  100 2113k    0     0  6541k      0 --:--:-- --:--:-- --:--:-- 6541k\n",
      "  % Total    % Received % Xferd  Average Speed   Time    Time     Time  Current\n",
      "                                 Dload  Upload   Total   Spent    Left  Speed\n",
      "100  420k  100  420k    0     0  2029k      0 --:--:-- --:--:-- --:--:-- 2029k\n"
     ]
    }
   ],
   "source": [
    "!curl $TRAIN_ANNOTATION_URL -o $TRAIN_ANNOTATION_PATH\n",
    "!curl $TEST_ANNOTATION_URL -o $TEST_ANNOTATION_PATH"
   ]
  },
  {
   "cell_type": "markdown",
   "id": "96e09784",
   "metadata": {},
   "source": [
    "### unzipping\n",
    "\n",
    "- cell below to recursively delete directory\n",
    "- -q for unzip means quiet "
   ]
  },
  {
   "cell_type": "code",
   "execution_count": 6,
   "id": "f32e13f1",
   "metadata": {},
   "outputs": [],
   "source": [
    "#!rm -rf $TRAIN_DATA_DIR\n",
    "#!rm -rf $TEST_DATA_DIR"
   ]
  },
  {
   "cell_type": "code",
   "execution_count": 7,
   "id": "9bedab78",
   "metadata": {},
   "outputs": [],
   "source": [
    "!unzip -q -o $TRAIN_ZIP_PATH -d $XRAY_LUNG_CLF_DIR\n",
    "!unzip -q -o $TEST_ZIP_PATH -d $XRAY_LUNG_CLF_DIR"
   ]
  }
 ],
 "metadata": {
  "kernelspec": {
   "display_name": "conda_pytorch_latest_p36",
   "language": "python",
   "name": "conda_pytorch_latest_p36"
  },
  "language_info": {
   "codemirror_mode": {
    "name": "ipython",
    "version": 3
   },
   "file_extension": ".py",
   "mimetype": "text/x-python",
   "name": "python",
   "nbconvert_exporter": "python",
   "pygments_lexer": "ipython3",
   "version": "3.6.13"
  }
 },
 "nbformat": 4,
 "nbformat_minor": 5
}
