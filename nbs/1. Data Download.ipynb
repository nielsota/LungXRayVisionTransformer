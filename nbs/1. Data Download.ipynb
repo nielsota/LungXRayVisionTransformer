{
 "cells": [
  {
   "cell_type": "markdown",
   "id": "061e6e1e",
   "metadata": {},
   "source": [
    "# Data download notebook"
   ]
  },
  {
   "cell_type": "code",
   "execution_count": 1,
   "id": "fe4d6ebd",
   "metadata": {},
   "outputs": [],
   "source": [
    "import pathlib"
   ]
  },
  {
   "cell_type": "code",
   "execution_count": 2,
   "id": "8afc087c",
   "metadata": {},
   "outputs": [
    {
     "data": {
      "text/plain": [
       "PosixPath('/Users/nielsota/Desktop/NielsOta/Academic/Projects/Machine_Learning_Engineer/Capstone/data/zips')"
      ]
     },
     "execution_count": 2,
     "metadata": {},
     "output_type": "execute_result"
    }
   ],
   "source": [
    "BASE_DIR = pathlib.Path().resolve().parent\n",
    "\n",
    "DATA_DIR = BASE_DIR / 'data'\n",
    "\n",
    "EXPORTS_DIR = DATA_DIR / 'exports'\n",
    "XRAY_LUNG_CLF_DIR = DATA_DIR / 'xray_lung_clf'\n",
    "ZIPS_DIR =  DATA_DIR / 'zips'\n",
    "\n",
    "EXPORTS_DIR.mkdir(parents=True, exist_ok=True)\n",
    "ZIPS_DIR.mkdir(parents=True, exist_ok=True)\n",
    "XRAY_LUNG_CLF_DIR.mkdir(parents=True, exist_ok=True)\n",
    "\n",
    "TRAIN_ZIP_PATH = ZIPS_DIR / 'train.zip'\n",
    "TEST_ZIP_PATH = ZIPS_DIR / 'test.zip'\n",
    "\n",
    "TRAIN_ANNOTATION_PATH = XRAY_LUNG_CLF_DIR / 'train_annotations.json'\n",
    "TEST_ANNOTATION_PATH = XRAY_LUNG_CLF_DIR / 'test_annotations.json'\n",
    "\n",
    "ZIPS_DIR"
   ]
  },
  {
   "cell_type": "code",
   "execution_count": 3,
   "id": "499ac17e",
   "metadata": {},
   "outputs": [],
   "source": [
    "TRAIN_URL = 'http://resource.deepwise.com/ChestX-Det/train_data.zip'\n",
    "TEST_URL = 'http://resource.deepwise.com/ChestX-Det/test_data.zip'\n",
    "\n",
    "TRAIN_ANNOTATION_URL = 'https://raw.githubusercontent.com/Deepwise-AILab/ChestX-Det-Dataset/main/ChestX_Det_train.json'\n",
    "TEST_ANNOTATION_URL = 'https://raw.githubusercontent.com/Deepwise-AILab/ChestX-Det-Dataset/main/ChestX_Det_test.json'"
   ]
  },
  {
   "cell_type": "code",
   "execution_count": 9,
   "id": "b281835e",
   "metadata": {},
   "outputs": [
    {
     "name": "stdout",
     "output_type": "stream",
     "text": [
      "  % Total    % Received % Xferd  Average Speed   Time    Time     Time  Current\n",
      "                                 Dload  Upload   Total   Spent    Left  Speed\n",
      "100 1163M  100 1163M    0     0  1042k      0  0:19:02  0:19:02 --:--:-- 1128k\n",
      "  % Total    % Received % Xferd  Average Speed   Time    Time     Time  Current\n",
      "                                 Dload  Upload   Total   Spent    Left  Speed\n",
      "100  212M  100  212M    0     0  1171k      0  0:03:05  0:03:05 --:--:-- 1186k\n"
     ]
    }
   ],
   "source": [
    "!curl $TRAIN_URL -o $TRAIN_ZIP_PATH \n",
    "!curl $TEST_URL -o $TEST_ZIP_PATH "
   ]
  },
  {
   "cell_type": "code",
   "execution_count": 5,
   "id": "6152a948",
   "metadata": {},
   "outputs": [
    {
     "name": "stdout",
     "output_type": "stream",
     "text": [
      "  % Total    % Received % Xferd  Average Speed   Time    Time     Time  Current\n",
      "                                 Dload  Upload   Total   Spent    Left  Speed\n",
      "100 2113k  100 2113k    0     0  2705k      0 --:--:-- --:--:-- --:--:-- 2702k\n",
      "  % Total    % Received % Xferd  Average Speed   Time    Time     Time  Current\n",
      "                                 Dload  Upload   Total   Spent    Left  Speed\n",
      "100  420k  100  420k    0     0   974k      0 --:--:-- --:--:-- --:--:--  972k\n"
     ]
    }
   ],
   "source": [
    "!curl $TRAIN_ANNOTATION_URL -o $TRAIN_ANNOTATION_PATH\n",
    "!curl $TEST_ANNOTATION_URL -o $TEST_ANNOTATION_PATH"
   ]
  },
  {
   "cell_type": "markdown",
   "id": "96e09784",
   "metadata": {},
   "source": [
    "### unzipping\n",
    "\n",
    "- cell below to recursively delete directory\n",
    "- -q for unzip means quiet "
   ]
  },
  {
   "cell_type": "code",
   "execution_count": 6,
   "id": "f32e13f1",
   "metadata": {},
   "outputs": [],
   "source": [
    "#!rm -rf $TRAIN_DATA_DIR\n",
    "#!rm -rf $TEST_DATA_DIR"
   ]
  },
  {
   "cell_type": "code",
   "execution_count": 10,
   "id": "9bedab78",
   "metadata": {},
   "outputs": [],
   "source": [
    "!unzip -q -o $TRAIN_ZIP_PATH -d $XRAY_LUNG_CLF_DIR\n",
    "!unzip -q -o $TEST_ZIP_PATH -d $XRAY_LUNG_CLF_DIR"
   ]
  }
 ],
 "metadata": {
  "interpreter": {
   "hash": "aee8b7b246df8f9039afb4144a1f6fd8d2ca17a180786b69acc140d282b71a49"
  },
  "kernelspec": {
   "display_name": "conda_pytorch_latest_p36",
   "language": "python",
   "name": "python3"
  },
  "language_info": {
   "codemirror_mode": {
    "name": "ipython",
    "version": 3
   },
   "file_extension": ".py",
   "mimetype": "text/x-python",
   "name": "python",
   "nbconvert_exporter": "python",
   "pygments_lexer": "ipython3",
   "version": "3.9.0"
  }
 },
 "nbformat": 4,
 "nbformat_minor": 5
}
