{
 "cells": [
  {
   "cell_type": "markdown",
   "id": "9bcab729",
   "metadata": {},
   "source": [
    "# Data download notebook"
   ]
  },
  {
   "cell_type": "code",
   "execution_count": 8,
   "id": "ec9b8335",
   "metadata": {},
   "outputs": [],
   "source": [
    "import pathlib"
   ]
  },
  {
   "cell_type": "code",
   "execution_count": 19,
   "id": "0d2ea49f",
   "metadata": {},
   "outputs": [
    {
     "data": {
      "text/plain": [
       "PosixPath('/home/ec2-user/SageMaker/UdacityCapstone/data/zips')"
      ]
     },
     "execution_count": 19,
     "metadata": {},
     "output_type": "execute_result"
    }
   ],
   "source": [
    "BASE_DIR = pathlib.Path().resolve().parent\n",
    "\n",
    "DATA_DIR = BASE_DIR / 'data'\n",
    "\n",
    "EXPORTS_DIR = DATA_DIR / 'exports'\n",
    "XRAY_LUNG_CLF_DIR = DATA_DIR / 'xray_lung_clf'\n",
    "ZIPS_DIR =  DATA_DIR / 'zips'\n",
    "\n",
    "EXPORTS_DIR.mkdir(parents=True, exist_ok=True)\n",
    "ZIPS_DIR.mkdir(parents=True, exist_ok=True)\n",
    "XRAY_LUNG_CLF_DIR.mkdir(parents=True, exist_ok=True)\n",
    "\n",
    "TRAIN_ZIP_PATH = ZIPS_DIR / 'train.zip'\n",
    "TEST_ZIP_PATH = ZIPS_DIR / 'test.zip'\n",
    "\n",
    "ZIPS_DIR"
   ]
  },
  {
   "cell_type": "code",
   "execution_count": 10,
   "id": "bda0c9b1",
   "metadata": {},
   "outputs": [],
   "source": [
    "TRAIN_URL = 'http://resource.deepwise.com/ChestX-Det/train_data.zip'\n",
    "TEST_URL = 'http://resource.deepwise.com/ChestX-Det/test_data.zip'"
   ]
  },
  {
   "cell_type": "code",
   "execution_count": 11,
   "id": "9da7143b",
   "metadata": {},
   "outputs": [
    {
     "name": "stdout",
     "output_type": "stream",
     "text": [
      "  % Total    % Received % Xferd  Average Speed   Time    Time     Time  Current\n",
      "                                 Dload  Upload   Total   Spent    Left  Speed\n",
      "100 1163M  100 1163M    0     0  1378k      0  0:14:24  0:14:24 --:--:-- 1977k54M    0     0  1133k      0  0:17:31  0:02:19  0:15:12  751k 18  215M    0     0   963k      0  0:20:35  0:03:49  0:16:46  766k   69  811M    0     0  1276k      0  0:15:33  0:10:50  0:04:43 1733k4  862M    0     0  1272k      0  0:15:36  0:11:33  0:04:03 1615k\n",
      "  % Total    % Received % Xferd  Average Speed   Time    Time     Time  Current\n",
      "                                 Dload  Upload   Total   Spent    Left  Speed\n",
      "100  212M  100  212M    0     0  1354k      0  0:02:40  0:02:40 --:--:-- 2125k 0:03:59  0:00:57  0:03:02 1917k  0     0  1244k      0  0:02:54  0:01:54  0:01:00 1475k\n"
     ]
    }
   ],
   "source": [
    "!curl $TRAIN_URL -o $TRAIN_ZIP_PATH \n",
    "!curl $TEST_URL -o $TEST_ZIP_PATH "
   ]
  },
  {
   "cell_type": "markdown",
   "id": "a70ddabc",
   "metadata": {},
   "source": [
    "### unzipping\n",
    "\n",
    "- cell below to recursively delete directory\n",
    "- -q for unzip means quiet "
   ]
  },
  {
   "cell_type": "code",
   "execution_count": 18,
   "id": "f70f7acf",
   "metadata": {},
   "outputs": [],
   "source": [
    "#!rm -rf $TRAIN_DATA_DIR\n",
    "#!rm -rf $TEST_DATA_DIR"
   ]
  },
  {
   "cell_type": "code",
   "execution_count": 20,
   "id": "1ac69fc5",
   "metadata": {},
   "outputs": [],
   "source": [
    "!unzip -q -o $TRAIN_ZIP_PATH -d $XRAY_LUNG_CLF_DIR\n",
    "!unzip -q -o $TEST_ZIP_PATH -d $XRAY_LUNG_CLF_DIR"
   ]
  },
  {
   "cell_type": "code",
   "execution_count": null,
   "id": "8f8a4d3e",
   "metadata": {},
   "outputs": [],
   "source": []
  }
 ],
 "metadata": {
  "kernelspec": {
   "display_name": "conda_pytorch_latest_p36",
   "language": "python",
   "name": "conda_pytorch_latest_p36"
  },
  "language_info": {
   "codemirror_mode": {
    "name": "ipython",
    "version": 3
   },
   "file_extension": ".py",
   "mimetype": "text/x-python",
   "name": "python",
   "nbconvert_exporter": "python",
   "pygments_lexer": "ipython3",
   "version": "3.6.13"
  }
 },
 "nbformat": 4,
 "nbformat_minor": 5
}
