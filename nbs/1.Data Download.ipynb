{
 "cells": [
  {
   "cell_type": "markdown",
   "id": "ff67e4d6",
   "metadata": {},
   "source": [
    "# Data download notebook"
   ]
  },
  {
   "cell_type": "code",
   "execution_count": 8,
   "id": "c6d224a6",
   "metadata": {},
   "outputs": [],
   "source": [
    "import pathlib"
   ]
  },
  {
   "cell_type": "code",
   "execution_count": 32,
   "id": "94f5352e",
   "metadata": {},
   "outputs": [
    {
     "data": {
      "text/plain": [
       "PosixPath('/home/ec2-user/SageMaker/UdacityCapstone/data/zips')"
      ]
     },
     "execution_count": 32,
     "metadata": {},
     "output_type": "execute_result"
    }
   ],
   "source": [
    "BASE_DIR = pathlib.Path().resolve().parent\n",
    "\n",
    "DATA_DIR = BASE_DIR / 'data'\n",
    "\n",
    "EXPORTS_DIR = DATA_DIR / 'exports'\n",
    "XRAY_LUNG_CLF_DIR = DATA_DIR / 'xray_lung_clf'\n",
    "ZIPS_DIR =  DATA_DIR / 'zips'\n",
    "\n",
    "EXPORTS_DIR.mkdir(parents=True, exist_ok=True)\n",
    "ZIPS_DIR.mkdir(parents=True, exist_ok=True)\n",
    "XRAY_LUNG_CLF_DIR.mkdir(parents=True, exist_ok=True)\n",
    "\n",
    "TRAIN_ZIP_PATH = ZIPS_DIR / 'train.zip'\n",
    "TEST_ZIP_PATH = ZIPS_DIR / 'test.zip'\n",
    "\n",
    "TRAIN_ANNOTATION_PATH = XRAY_LUNG_CLF_DIR / 'train_annotations.json'\n",
    "TEST_ANNOTATION_PATH = XRAY_LUNG_CLF_DIR / 'test_annotations.json'\n",
    "\n",
    "ZIPS_DIR"
   ]
  },
  {
   "cell_type": "code",
   "execution_count": 33,
   "id": "d8fc5911",
   "metadata": {},
   "outputs": [],
   "source": [
    "TRAIN_URL = 'http://resource.deepwise.com/ChestX-Det/train_data.zip'\n",
    "TEST_URL = 'http://resource.deepwise.com/ChestX-Det/test_data.zip'\n",
    "\n",
    "TRAIN_ANNOTATION_URL = 'https://raw.githubusercontent.com/Deepwise-AILab/ChestX-Det-Dataset/main/ChestX_Det_train.json'\n",
    "TEST_ANNOTATION_URL = 'https://raw.githubusercontent.com/Deepwise-AILab/ChestX-Det-Dataset/main/ChestX_Det_test.json'"
   ]
  },
  {
   "cell_type": "code",
   "execution_count": 26,
   "id": "d2d81584",
   "metadata": {},
   "outputs": [
    {
     "name": "stdout",
     "output_type": "stream",
     "text": [
      "  % Total    % Received % Xferd  Average Speed   Time    Time     Time  Current\n",
      "                                 Dload  Upload   Total   Spent    Left  Speed\n",
      "  1 1163M    1 13.0M    0     0  1303k      0  0:15:14  0:00:10  0:15:04 1635k^C\n",
      "  % Total    % Received % Xferd  Average Speed   Time    Time     Time  Current\n",
      "                                 Dload  Upload   Total   Spent    Left  Speed\n",
      "  0  212M    0 1671k    0     0   303k      0  0:11:55  0:00:05  0:11:50  349k^C\n"
     ]
    }
   ],
   "source": [
    "!curl $TRAIN_URL -o $TRAIN_ZIP_PATH \n",
    "!curl $TEST_URL -o $TEST_ZIP_PATH "
   ]
  },
  {
   "cell_type": "code",
   "execution_count": 34,
   "id": "9bdb40f3",
   "metadata": {},
   "outputs": [
    {
     "name": "stdout",
     "output_type": "stream",
     "text": [
      "  % Total    % Received % Xferd  Average Speed   Time    Time     Time  Current\n",
      "                                 Dload  Upload   Total   Spent    Left  Speed\n",
      "100 2113k  100 2113k    0     0  34.3M      0 --:--:-- --:--:-- --:--:-- 34.3M\n",
      "  % Total    % Received % Xferd  Average Speed   Time    Time     Time  Current\n",
      "                                 Dload  Upload   Total   Spent    Left  Speed\n",
      "100  420k  100  420k    0     0  14.1M      0 --:--:-- --:--:-- --:--:-- 14.1M\n"
     ]
    }
   ],
   "source": [
    "!curl $TRAIN_ANNOTATION_URL -o $TRAIN_ANNOTATION_PATH\n",
    "!curl $TEST_ANNOTATION_URL -o $TEST_ANNOTATION_PATH"
   ]
  },
  {
   "cell_type": "markdown",
   "id": "0139f61c",
   "metadata": {},
   "source": [
    "### unzipping\n",
    "\n",
    "- cell below to recursively delete directory\n",
    "- -q for unzip means quiet "
   ]
  },
  {
   "cell_type": "code",
   "execution_count": 18,
   "id": "1a368ff2",
   "metadata": {},
   "outputs": [],
   "source": [
    "#!rm -rf $TRAIN_DATA_DIR\n",
    "#!rm -rf $TEST_DATA_DIR"
   ]
  },
  {
   "cell_type": "code",
   "execution_count": 20,
   "id": "bcf55c02",
   "metadata": {},
   "outputs": [],
   "source": [
    "!unzip -q -o $TRAIN_ZIP_PATH -d $XRAY_LUNG_CLF_DIR\n",
    "!unzip -q -o $TEST_ZIP_PATH -d $XRAY_LUNG_CLF_DIR"
   ]
  },
  {
   "cell_type": "code",
   "execution_count": null,
   "id": "65b87352",
   "metadata": {},
   "outputs": [],
   "source": []
  }
 ],
 "metadata": {
  "kernelspec": {
   "display_name": "conda_pytorch_latest_p36",
   "language": "python",
   "name": "conda_pytorch_latest_p36"
  },
  "language_info": {
   "codemirror_mode": {
    "name": "ipython",
    "version": 3
   },
   "file_extension": ".py",
   "mimetype": "text/x-python",
   "name": "python",
   "nbconvert_exporter": "python",
   "pygments_lexer": "ipython3",
   "version": "3.6.13"
  }
 },
 "nbformat": 4,
 "nbformat_minor": 5
}
